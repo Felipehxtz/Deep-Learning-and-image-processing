{
  "nbformat": 4,
  "nbformat_minor": 0,
  "metadata": {
    "colab": {
      "name": "Detect.ipynb",
      "provenance": [],
      "collapsed_sections": [],
      "authorship_tag": "ABX9TyOLEEPn8wlyQSfT/ZTE/FGK",
      "include_colab_link": true
    },
    "kernelspec": {
      "name": "python3",
      "display_name": "Python 3"
    },
    "accelerator": "GPU"
  },
  "cells": [
    {
      "cell_type": "markdown",
      "metadata": {
        "id": "view-in-github",
        "colab_type": "text"
      },
      "source": [
        "<a href=\"https://colab.research.google.com/github/Felipehxtz/Deep-Learning-and-image-processing/blob/main/Detect.ipynb\" target=\"_parent\"><img src=\"https://colab.research.google.com/assets/colab-badge.svg\" alt=\"Open In Colab\"/></a>"
      ]
    },
    {
      "cell_type": "code",
      "metadata": {
        "id": "Z1BWQ5NjJMte"
      },
      "source": [
        "import tensorflow as tf\r\n",
        "from tensorflow.keras.models import Sequential \r\n",
        "from tensorflow.keras.layers import Conv2D, MaxPooling2D, Flatten, Dense, Dropout, BatchNormalization\r\n",
        "from tensorflow.keras.preprocessing.image import ImageDataGenerator\r\n",
        "import numpy as np\r\n",
        "from tensorflow.keras.preprocessing import image\r\n",
        "from tensorflow.keras.models import load_model\r\n",
        "from tensorflow.keras.optimizers import Adam\r\n"
      ],
      "execution_count": null,
      "outputs": []
    },
    {
      "cell_type": "code",
      "metadata": {
        "colab": {
          "base_uri": "https://localhost:8080/"
        },
        "id": "-SqqVn_aY0ET",
        "outputId": "405522de-d6da-4446-f86a-f5e98fd2ce22"
      },
      "source": [
        "#Conecta ao google Drive\r\n",
        "from google.colab import drive\r\n",
        "drive.mount('/content/drive')"
      ],
      "execution_count": null,
      "outputs": [
        {
          "output_type": "stream",
          "text": [
            "Mounted at /content/drive\n"
          ],
          "name": "stdout"
        }
      ]
    },
    {
      "cell_type": "code",
      "metadata": {
        "colab": {
          "base_uri": "https://localhost:8080/"
        },
        "id": "SqH4LMhEaQLN",
        "outputId": "3d2065d9-f602-42d3-d50f-9e8636679626"
      },
      "source": [
        "#cria um atalho para o drive\r\n",
        "!ln -s /content/drive/MyDrive /Mydrive\r\n",
        "!ls /Mydrive"
      ],
      "execution_count": null,
      "outputs": [
        {
          "output_type": "stream",
          "text": [
            "'Colab Notebooks'   dataset   dataset.zip\n"
          ],
          "name": "stdout"
        }
      ]
    },
    {
      "cell_type": "code",
      "metadata": {
        "colab": {
          "base_uri": "https://localhost:8080/"
        },
        "id": "3YMrMOsWbCzF",
        "outputId": "2f18a9f1-d21f-4368-966f-b5e50e2fc6fd"
      },
      "source": [
        "#descompacta o banco de dados\r\n",
        "%cd /Mydrive\r\n",
        "!unzip \\*.zip"
      ],
      "execution_count": null,
      "outputs": [
        {
          "output_type": "stream",
          "text": [
            "/content/drive/MyDrive\n",
            "Archive:  dataset.zip\n",
            "replace dataset/test_set/cidade/Untitled 2 1196.jpg? [y]es, [n]o, [A]ll, [N]one, [r]ename: "
          ],
          "name": "stdout"
        }
      ]
    },
    {
      "cell_type": "code",
      "metadata": {
        "id": "nAMJh2L5JQAo"
      },
      "source": [
        "def classificador_model():\r\n",
        "    tf.random.set_seed(1)\r\n",
        "\r\n",
        "    \"\"\"\r\n",
        "////////////////////////// Iniciando a Rede Neural//////////////////////////\r\n",
        "Sequencial: Recomendada quando se tem um tensor de entrada e um de saída\r\n",
        "\r\n",
        "Conv2D: N° de filtros, tamanho do detector de característica\r\n",
        "\r\n",
        "Input_shape: Tamanho de entrada das imagens e suas bandas de cores.\r\n",
        " \r\n",
        "Activation relu: Retira os valores negativos(partes mais escuras das imagens).\r\n",
        "\r\n",
        "BatchNormalization: aplica uma transformação que mantém a saída média próxima \r\n",
        "a 0 e o desvio padrão da saída próximo a 1. Acelera o processamento.\r\n",
        "MaxPooling2D: Reduz o overfitting, ruidos e novamente o tamanho da imagem.\r\n",
        "Foca nas características mais relevantes.   \r\n",
        "    \"\"\"\r\n",
        "    classificador = Sequential()\r\n",
        "    classificador.add.(input(shape=(256, 256, 3)))\r\n",
        "    classificador.add(Conv2D(16, (3,3), activation = 'relu'))\r\n",
        "    classificador.add(BatchNormalization())\r\n",
        "    classificador.add(MaxPooling2D(pool_size = (2,2)))\r\n",
        "\r\n",
        "    \"\"\"\r\n",
        "podemos fazer o procedimento novamente, caso tivessemos imagens com muitos\r\n",
        "pixels. A consequencia é a perda de mais características da imagem.\r\n",
        "    \"\"\"\r\n",
        "    classificador.add(Conv2D(64, (3,3), activation = 'relu'))\r\n",
        "    classificador.add(BatchNormalization())\r\n",
        "    classificador.add(MaxPooling2D(pool_size = (2, 2)))\r\n",
        "        \r\n",
        "\r\n",
        "#Transforma a matriz em um vetor.\r\n",
        "    classificador.add(Flatten())\r\n",
        "    \"\"\"\r\n",
        "//////////////////////// Iniciando a Rede Neural Densa////////////////////////\r\n",
        "Dense: N° de neurônios, função de ativação. Utilizada para configurar neurônios \r\n",
        "intermediários e da saída(s).\r\n",
        "Dropout: zera uma quantidade determinada de entradas.\r\n",
        "    \"\"\"\r\n",
        "    classificador.add(Dense(units = 128, activation = 'relu'))\r\n",
        "    classificador.add(Dropout(0.5))\r\n",
        "    classificador.add(Dense(units = 64, activation = 'relu'))\r\n",
        "    classificador.add(Dropout(0.2))\r\n",
        "    classificador.add(Dense(units = 1, activation = 'sigmoid'))\r\n",
        "    opt = Adam(learning_rate=0.00005)  \r\n",
        "    classificador.compile(optimizer=opt, loss = 'binary_crossentropy', metrics = ['accuracy'])\r\n",
        "    return classificador"
      ],
      "execution_count": null,
      "outputs": []
    },
    {
      "cell_type": "code",
      "metadata": {
        "colab": {
          "base_uri": "https://localhost:8080/"
        },
        "id": "NEKp8QYdJUCp",
        "outputId": "71db11c1-67e7-46f6-ec1a-107d08175530"
      },
      "source": [
        "\"\"\"\r\n",
        "//////////////////////// gerando imagens para treinamento ///////////////////\r\n",
        "Rescale: Faz a normalização dos dados, deixando-os entre 0 e 1.\r\n",
        "Rotation_range: Grau de rotação da imagem.\r\n",
        "Horizontal_flip: Gira as imagens na horizontal. \r\n",
        "shear_range: Faz a mudança dos pixels para outra direção.\r\n",
        "Height_shift_range: Faixa de mudança da altura.\r\n",
        "Zoom_range: Intervalo para o zoom aleatório.\r\n",
        "\"\"\"\r\n",
        "\r\n",
        "gerador_treinamento = ImageDataGenerator(rescale = 1./255, rotation_range = 7, \r\n",
        "                                         horizontal_flip = True,\r\n",
        "                                         shear_range = 0.2,\r\n",
        "                                         height_shift_range = 0.07,\r\n",
        "                                         zoom_range = 0.2)\r\n",
        "\r\n",
        "gerador_teste = ImageDataGenerator(rescale = 1./255)\r\n",
        "\r\n",
        "\"\"\"\r\n",
        "///////////////////// gerando classes de treinamento e teste /////////////////\r\n",
        "Target_size: Tamanho das imagens, determinadas em input_shape.\r\n",
        "Batch_size: Define o número de amostras que serão propagadas pela rede.\r\n",
        "Class_mode: Define o classe de problema que temos. Neste caso temos um binário\r\n",
        "(litoral ou cidade).\r\n",
        "\"\"\"\r\n",
        "base_treinamento = gerador_treinamento.flow_from_directory('/Mydrive/dataset/training_set', \r\n",
        "                                                           target_size = (128, 128), \r\n",
        "                                                           batch_size = 10, \r\n",
        "                                                           class_mode = 'binary')\r\n",
        "\r\n",
        "\r\n",
        "validation_test = gerador_teste.flow_from_directory('/Mydrive/dataset/validation_test',\r\n",
        "                                                           target_size = (128, 128),\r\n",
        "                                                           batch_size = 10, \r\n",
        "                                                           class_mode = 'binary')\r\n",
        "\r\n",
        "\r\n",
        "\r\n",
        "\r\n",
        "                          \r\n",
        "    "
      ],
      "execution_count": null,
      "outputs": [
        {
          "output_type": "stream",
          "text": [
            "Found 4500 images belonging to 2 classes.\n",
            "Found 500 images belonging to 2 classes.\n"
          ],
          "name": "stdout"
        }
      ]
    },
    {
      "cell_type": "code",
      "metadata": {
        "colab": {
          "base_uri": "https://localhost:8080/"
        },
        "id": "B9SAayznfMRH",
        "outputId": "72486e63-1cd4-4b4e-ea4d-a01d9fb3f32b"
      },
      "source": [
        "import sys\r\n",
        "print('Python version:', sys.version.split(' ')[0])\r\n",
        "print('TensorFlow version:', tf.__version__)\r\n",
        "print('GPU:', tf.config.list_physical_devices('GPU'))"
      ],
      "execution_count": null,
      "outputs": [
        {
          "output_type": "stream",
          "text": [
            "Python version: 3.6.9\n",
            "TensorFlow version: 2.4.1\n",
            "GPU: [PhysicalDevice(name='/physical_device:GPU:0', device_type='GPU')]\n"
          ],
          "name": "stdout"
        }
      ]
    },
    {
      "cell_type": "code",
      "metadata": {
        "colab": {
          "base_uri": "https://localhost:8080/"
        },
        "id": "kKGBIWQBef1y",
        "outputId": "bf55fc1c-b70c-4273-8866-47120e016375"
      },
      "source": [
        "classificador  = classificador_model()\r\n",
        "classificador.summary()\r\n",
        "classificador.fit(base_treinamento, batch_size = 256, \r\n",
        "                            epochs = 10, validation_data = validation_test) "
      ],
      "execution_count": null,
      "outputs": [
        {
          "output_type": "stream",
          "text": [
            "Model: \"sequential\"\n",
            "_________________________________________________________________\n",
            "Layer (type)                 Output Shape              Param #   \n",
            "=================================================================\n",
            "conv2d (Conv2D)              (None, 126, 126, 16)      448       \n",
            "_________________________________________________________________\n",
            "batch_normalization (BatchNo (None, 126, 126, 16)      64        \n",
            "_________________________________________________________________\n",
            "max_pooling2d (MaxPooling2D) (None, 63, 63, 16)        0         \n",
            "_________________________________________________________________\n",
            "conv2d_1 (Conv2D)            (None, 61, 61, 64)        9280      \n",
            "_________________________________________________________________\n",
            "batch_normalization_1 (Batch (None, 61, 61, 64)        256       \n",
            "_________________________________________________________________\n",
            "max_pooling2d_1 (MaxPooling2 (None, 30, 30, 64)        0         \n",
            "_________________________________________________________________\n",
            "flatten (Flatten)            (None, 57600)             0         \n",
            "_________________________________________________________________\n",
            "dense (Dense)                (None, 128)               7372928   \n",
            "_________________________________________________________________\n",
            "dropout (Dropout)            (None, 128)               0         \n",
            "_________________________________________________________________\n",
            "dense_1 (Dense)              (None, 64)                8256      \n",
            "_________________________________________________________________\n",
            "dropout_1 (Dropout)          (None, 64)                0         \n",
            "_________________________________________________________________\n",
            "dense_2 (Dense)              (None, 1)                 65        \n",
            "=================================================================\n",
            "Total params: 7,391,297\n",
            "Trainable params: 7,391,137\n",
            "Non-trainable params: 160\n",
            "_________________________________________________________________\n",
            "Epoch 1/10\n",
            "450/450 [==============================] - 1056s 2s/step - loss: 0.1665 - accuracy: 0.9549 - val_loss: 0.0865 - val_accuracy: 0.9720\n",
            "Epoch 2/10\n",
            "450/450 [==============================] - 74s 165ms/step - loss: 0.0925 - accuracy: 0.9856 - val_loss: 0.2613 - val_accuracy: 0.9660\n",
            "Epoch 3/10\n",
            "450/450 [==============================] - 75s 166ms/step - loss: 0.0387 - accuracy: 0.9923 - val_loss: 0.1490 - val_accuracy: 0.9800\n",
            "Epoch 4/10\n",
            "450/450 [==============================] - 75s 166ms/step - loss: 0.0899 - accuracy: 0.9864 - val_loss: 0.0736 - val_accuracy: 0.9880\n",
            "Epoch 5/10\n",
            "450/450 [==============================] - 74s 164ms/step - loss: 0.0546 - accuracy: 0.9886 - val_loss: 0.0475 - val_accuracy: 0.9900\n",
            "Epoch 6/10\n",
            "450/450 [==============================] - 74s 164ms/step - loss: 0.0253 - accuracy: 0.9935 - val_loss: 0.2097 - val_accuracy: 0.9700\n",
            "Epoch 7/10\n",
            "450/450 [==============================] - 73s 163ms/step - loss: 0.0235 - accuracy: 0.9948 - val_loss: 0.3227 - val_accuracy: 0.9500\n",
            "Epoch 8/10\n",
            "450/450 [==============================] - 74s 164ms/step - loss: 0.0298 - accuracy: 0.9957 - val_loss: 0.2021 - val_accuracy: 0.9660\n",
            "Epoch 9/10\n",
            "450/450 [==============================] - 74s 164ms/step - loss: 0.0341 - accuracy: 0.9907 - val_loss: 0.4927 - val_accuracy: 0.9420\n",
            "Epoch 10/10\n",
            "450/450 [==============================] - 73s 163ms/step - loss: 0.0319 - accuracy: 0.9954 - val_loss: 0.7196 - val_accuracy: 0.9300\n"
          ],
          "name": "stdout"
        },
        {
          "output_type": "execute_result",
          "data": {
            "text/plain": [
              "<tensorflow.python.keras.callbacks.History at 0x7ff0f5788ba8>"
            ]
          },
          "metadata": {
            "tags": []
          },
          "execution_count": 7
        }
      ]
    },
    {
      "cell_type": "code",
      "metadata": {
        "id": "58sVbxQO2i1O"
      },
      "source": [
        "classificador.save(\"/Mydrive/classificador.h5\")"
      ],
      "execution_count": null,
      "outputs": []
    },
    {
      "cell_type": "code",
      "metadata": {
        "id": "eG3Pfagz2ol0"
      },
      "source": [
        "classificador = load_model('/Mydrive/classificador.h5')"
      ],
      "execution_count": null,
      "outputs": []
    },
    {
      "cell_type": "code",
      "metadata": {
        "id": "RIG63caT2xk9"
      },
      "source": [
        "base_teste = gerador_teste.flow_from_directory('/Mydrive/dataset/test_set', \r\n",
        "                                                           target_size = (256, 256),\r\n",
        "                                                           batch_size = 10, \r\n",
        "                                                           class_mode = 'binary')\r\n",
        "acc_test = classificador.evaluate(base_teste)"
      ],
      "execution_count": null,
      "outputs": []
    }
  ]
}